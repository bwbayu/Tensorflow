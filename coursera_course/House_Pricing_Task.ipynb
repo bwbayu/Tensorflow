{
  "nbformat": 4,
  "nbformat_minor": 0,
  "metadata": {
    "colab": {
      "provenance": [],
      "authorship_tag": "ABX9TyPxu78y0/9bE7pdgKS94Eo0",
      "include_colab_link": true
    },
    "kernelspec": {
      "name": "python3",
      "display_name": "Python 3"
    },
    "language_info": {
      "name": "python"
    }
  },
  "cells": [
    {
      "cell_type": "markdown",
      "metadata": {
        "id": "view-in-github",
        "colab_type": "text"
      },
      "source": [
        "<a href=\"https://colab.research.google.com/github/bwbayu/Tensorflow/blob/main/coursera_course/House_Pricing_Task.ipynb\" target=\"_parent\"><img src=\"https://colab.research.google.com/assets/colab-badge.svg\" alt=\"Open In Colab\"/></a>"
      ]
    },
    {
      "cell_type": "markdown",
      "source": [
        "# Week 1 Assignment: Housing Prices\n",
        "\n",
        "In this exercise you'll try to build a neural network that predicts the price of a house according to a simple formula.\n",
        "\n",
        "Imagine that house pricing is as easy as:\n",
        "\n",
        "A house has a base cost of 50k, and every additional bedroom adds a cost of 50k. This will make a 1 bedroom house cost 100k, a 2 bedroom house cost 150k etc.\n",
        "\n",
        "How would you create a neural network that learns this relationship so that it would predict a 7 bedroom house as costing close to 400k etc.\n",
        "\n",
        "Hint: Your network might work better if you scale the house price down. You don't have to give the answer 400...it might be better to create something that predicts the number 4, and then your answer is in the 'hundreds of thousands' etc."
      ],
      "metadata": {
        "id": "M2naypOtirB6"
      }
    },
    {
      "cell_type": "code",
      "source": [
        "import numpy as np\n",
        "import tensorflow as tf\n",
        "import pandas as pd\n",
        "import matplotlib.pyplot as plt\n",
        "import random\n",
        "import os"
      ],
      "metadata": {
        "id": "d1xepnHzjNQz"
      },
      "execution_count": 1,
      "outputs": []
    },
    {
      "cell_type": "code",
      "source": [
        "def reset_random_seeds():\n",
        "   os.environ['PYTHONHASHSEED']=str(2)\n",
        "   tf.random.set_seed(2)\n",
        "   np.random.seed(2)\n",
        "   random.seed(2)\n",
        "np.random.seed(42)\n",
        "tf.random.set_seed(42)\n",
        "random.seed(42)\n",
        "reset_random_seeds()"
      ],
      "metadata": {
        "id": "XAeMJH2boqRJ"
      },
      "execution_count": 2,
      "outputs": []
    },
    {
      "cell_type": "code",
      "execution_count": 21,
      "metadata": {
        "id": "kTiFnMLYvlT1"
      },
      "outputs": [],
      "source": [
        "# create input vector\n",
        "xs = np.array([1, 2, 3, 4, 5, 6], dtype=float)\n",
        "\n",
        "# create output vector\n",
        "ys = np.array([1, 1.5, 2, 2.5, 3, 3.5], dtype=float)\n",
        "\n",
        "# create model\n",
        "model = tf.keras.Sequential()\n",
        "model.add(tf.keras.Input(shape=1)) # input layer\n",
        "model.add(tf.keras.layers.Dense(1, activation='linear')) # output layer with activation function linear for regression task\n",
        "\n",
        "# compile\n",
        "model.compile(loss=tf.keras.losses.MSE, # loss function MSE -> Mean Squared Error, evaluation metrics for regression task\n",
        "              optimizer = tf.keras.optimizers.SGD()) # optimizer SGD"
      ]
    },
    {
      "cell_type": "code",
      "source": [
        "# fit model\n",
        "history = model.fit(xs, ys, epochs=1000, verbose=0)"
      ],
      "metadata": {
        "id": "k2zaWhCBlzbr"
      },
      "execution_count": 22,
      "outputs": []
    },
    {
      "cell_type": "code",
      "source": [
        "# plot model\n",
        "pd.DataFrame(history.history).plot()\n",
        "plt.xlabel(\"epochs\")\n",
        "plt.ylabel(\"loss/error\")"
      ],
      "metadata": {
        "colab": {
          "base_uri": "https://localhost:8080/",
          "height": 467
        },
        "id": "aEITrD2JlgCY",
        "outputId": "f2226382-7a44-47e6-bc46-485dd0bde71a"
      },
      "execution_count": 23,
      "outputs": [
        {
          "output_type": "execute_result",
          "data": {
            "text/plain": [
              "Text(0, 0.5, 'loss/error')"
            ]
          },
          "metadata": {},
          "execution_count": 23
        },
        {
          "output_type": "display_data",
          "data": {
            "text/plain": [
              "<Figure size 640x480 with 1 Axes>"
            ],
            "image/png": "[encoded data removed]"
          },
          "metadata": {}
        }
      ]
    },
    {
      "cell_type": "code",
      "source": [
        "# predict new data\n",
        "new_x = 7.0\n",
        "prediction = model.predict([new_x])[0]\n",
        "print(prediction)"
      ],
      "metadata": {
        "colab": {
          "base_uri": "https://localhost:8080/"
        },
        "id": "Eb6WvEZGnKhI",
        "outputId": "a010a2be-03e5-4211-af60-842e857ff922"
      },
      "execution_count": 12,
      "outputs": [
        {
          "output_type": "stream",
          "name": "stdout",
          "text": [
            "1/1 [==============================] - 0s 59ms/step\n",
            "[4.007442]\n"
          ]
        }
      ]
    },
    {
      "cell_type": "code",
      "source": [],
      "metadata": {
        "id": "6Wk8w5OYp5xc"
      },
      "execution_count": 6,
      "outputs": []
    }
  ]
}